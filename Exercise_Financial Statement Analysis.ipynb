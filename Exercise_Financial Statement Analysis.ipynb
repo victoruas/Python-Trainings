{
 "cells": [
  {
   "cell_type": "code",
   "execution_count": 8,
   "metadata": {},
   "outputs": [],
   "source": [
    "#Data \n",
    "revenue = [14574.49, 7606.46, 8611.41, 9175.41, 8058.65, 8105.44, 11496.28, 9766.09, 10305.32, 14379.96, 10713.97, 15433.50]\n",
    "expenses = [12051.82, 5695.07, 12319.20, 12089.72, 8658.57, 840.20, 3285.73, 5821.12, 6976.93, 16618.61, 10054.37, 3803.96]\n",
    "month = ['January', 'February', 'March', 'April', 'May', 'June', 'July', 'August', 'September', 'October', 'November', 'December']"
   ]
  },
  {
   "cell_type": "code",
   "execution_count": 66,
   "metadata": {},
   "outputs": [
    {
     "name": "stdout",
     "output_type": "stream",
     "text": [
      "Profit (*1000): \n",
      " [2.52, 1.91, -3.71, -2.91, -0.6, 7.27, 8.21, 3.94, 3.33, -2.24, 0.66, 11.63]\n",
      "\n",
      "Profit after Tax (*1000): \n",
      " [1.76, 1.34, -2.6, -2.04, -0.42, 5.09, 5.75, 2.76, 2.33, -1.57, 0.46, 8.14]\n",
      "\n",
      "Profit Margin (%): \n",
      " [12, 17, -30, -22, -5, 62, 50, 28, 22, -10, 4, 52]\n",
      "\n",
      "Good Months: \n",
      " ['January', 'June', 'July', 'August', 'September', 'December']\n",
      "\n",
      "Good Months Values:  [1.76, 5.09, 5.75, 2.76, 2.33, 8.14]\n",
      "The Best Month is  ['December']  With  [8.14]  of Profit AT\n",
      "\n",
      "Bad Months: \n",
      " ['February', 'March', 'April', 'May', 'October', 'November']\n",
      "\n",
      "Bad Months Values: \n",
      " [1.34, -2.6, -2.04, -0.42, -1.57, 0.46]\n",
      "The Worst Month is  ['March']  With  [-2.6]  of Profit AT\n"
     ]
    }
   ],
   "source": [
    "profit = []\n",
    "profittax = []\n",
    "profitmargin = []\n",
    "goodmonths = []\n",
    "badmonths = []\n",
    "goodmonthsvalue = []\n",
    "badmonthsvalue = []\n",
    "\n",
    "for i in range(0, len(revenue)):\n",
    "    profit.append(round((revenue[i] - expenses[i])/1000,2))\n",
    "    profittax.append(round(profit[i] * 0.7,2))\n",
    "    profitmargin.append(int((profittax[i] / revenue[i])*100000))\n",
    "    \n",
    "mean = sum(profittax) / len(profittax)\n",
    "\n",
    "for i in range(0, len(profittax)):\n",
    "    if profittax[i] > mean:\n",
    "        goodmonths.append(month[i])\n",
    "        goodmonthsvalue.append(profittax[i])\n",
    "    else:\n",
    "        badmonths.append(month[i])\n",
    "        badmonthsvalue.append(profittax[i])\n",
    "\n",
    "bestmonth = []\n",
    "worstmonth = []\n",
    "bestmonthvalue = []\n",
    "worstmonthvalue = []\n",
    "        \n",
    "for i in range(0, len(goodmonthsvalue)):\n",
    "    if goodmonthsvalue[i] == max(goodmonthsvalue):\n",
    "        bestmonthvalue.append(goodmonthsvalue[i])\n",
    "        bestmonth.append(goodmonths[i])\n",
    "\n",
    "for i in range(0, len(badmonthsvalue)):\n",
    "    if badmonthsvalue[i] == min(badmonthsvalue):\n",
    "        worstmonthvalue.append(badmonthsvalue[i])\n",
    "        worstmonth.append(badmonths[i])\n",
    "\n",
    "print('Profit (*1000): \\n',profit)\n",
    "print('\\nProfit after Tax (*1000): \\n',profittax)\n",
    "print('\\nProfit Margin (%): \\n',profitmargin)\n",
    "print('\\nGood Months: \\n',goodmonths)\n",
    "print('\\nGood Months Values: ',goodmonthsvalue)\n",
    "print('The Best Month is ',bestmonth,' With ',bestmonthvalue,' of Profit AT')\n",
    "print('\\nBad Months: \\n',badmonths)\n",
    "print('\\nBad Months Values: \\n',badmonthsvalue)\n",
    "print('The Worst Month is ',worstmonth,' With ',worstmonthvalue,' of Profit AT')"
   ]
  },
  {
   "cell_type": "code",
   "execution_count": null,
   "metadata": {},
   "outputs": [],
   "source": []
  }
 ],
 "metadata": {
  "kernelspec": {
   "display_name": "Python 3",
   "language": "python",
   "name": "python3"
  },
  "language_info": {
   "codemirror_mode": {
    "name": "ipython",
    "version": 3
   },
   "file_extension": ".py",
   "mimetype": "text/x-python",
   "name": "python",
   "nbconvert_exporter": "python",
   "pygments_lexer": "ipython3",
   "version": "3.7.6"
  }
 },
 "nbformat": 4,
 "nbformat_minor": 1
}
