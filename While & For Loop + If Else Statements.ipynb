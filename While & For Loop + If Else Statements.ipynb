{
 "cells": [
  {
   "cell_type": "code",
   "execution_count": 15,
   "metadata": {},
   "outputs": [
    {
     "name": "stdout",
     "output_type": "stream",
     "text": [
      "0\n",
      "1\n",
      "2\n",
      "3\n",
      "4\n",
      "5\n",
      "6\n",
      "7\n",
      "8\n",
      "9\n",
      "10\n",
      "11\n",
      "12\n",
      "End\n"
     ]
    }
   ],
   "source": [
    "counter = 0\n",
    "while counter <= 12 :\n",
    "    print(counter)\n",
    "    counter = counter + 1\n",
    "print(\"End\")"
   ]
  },
  {
   "cell_type": "code",
   "execution_count": 17,
   "metadata": {},
   "outputs": [
    {
     "name": "stdout",
     "output_type": "stream",
     "text": [
      "hello : 0\n",
      "hello : 1\n",
      "hello : 2\n",
      "hello : 3\n",
      "hello : 4\n"
     ]
    }
   ],
   "source": [
    "for i in range(5):\n",
    "    print(\"hello :\",i)"
   ]
  },
  {
   "cell_type": "code",
   "execution_count": 18,
   "metadata": {},
   "outputs": [
    {
     "data": {
      "text/plain": [
       "[0, 1, 2, 3, 4]"
      ]
     },
     "execution_count": 18,
     "metadata": {},
     "output_type": "execute_result"
    }
   ],
   "source": [
    "list(range(5))"
   ]
  },
  {
   "cell_type": "code",
   "execution_count": 22,
   "metadata": {},
   "outputs": [
    {
     "name": "stdout",
     "output_type": "stream",
     "text": [
      "impar 1\n",
      "impar 3\n",
      "impar 9\n",
      "par 56\n",
      "par 4\n",
      "par 78\n",
      "par 2\n",
      "impar 5\n",
      "par 14\n",
      "par 16\n",
      "impar 65\n",
      "par 94\n",
      "par 12\n",
      "impar 43\n",
      "impar 33\n",
      "impar 5\n",
      "par 22\n",
      "par 28\n",
      "par 30\n",
      "par 60\n"
     ]
    }
   ],
   "source": [
    "mylist = [1,3,9,56,4,78,2,5,14,16,65,94,12,43,33,5,22,28,30,60]\n",
    "for x in mylist:\n",
    "    if x % 2 == 0:\n",
    "        print('par', x)\n",
    "    else:\n",
    "        print('impar', x)"
   ]
  },
  {
   "cell_type": "code",
   "execution_count": 23,
   "metadata": {},
   "outputs": [],
   "source": [
    "import numpy as np\n",
    "from numpy.random import randn"
   ]
  },
  {
   "cell_type": "code",
   "execution_count": 32,
   "metadata": {},
   "outputs": [
    {
     "name": "stdout",
     "output_type": "stream",
     "text": [
      "[ 1.38429797  0.70375316  0.04010698  0.71706272 -1.12305588  0.62506092\n",
      " -0.22633724 -0.43724885 -1.76031386  1.70979086  1.02460976  0.28619372\n",
      " -0.1300745   0.76223088 -0.23707159 -1.04582636 -1.03499079  1.12142756\n",
      " -1.06502873 -0.74857486]\n",
      "greater than 1: 1.3842979725871176\n",
      "between -1 and 1: 0.7037531574805944\n",
      "between -1 and 1: 0.04010698426269286\n",
      "between -1 and 1: 0.7170627206545273\n",
      "less than -1: -1.1230558802638761\n",
      "between -1 and 1: 0.6250609241944348\n",
      "between -1 and 1: -0.2263372370291299\n",
      "between -1 and 1: -0.43724885245397616\n",
      "less than -1: -1.7603138573748887\n",
      "greater than 1: 1.7097908554090246\n",
      "greater than 1: 1.0246097616451704\n",
      "between -1 and 1: 0.28619371646552116\n",
      "between -1 and 1: -0.13007449983538308\n",
      "between -1 and 1: 0.7622308829202019\n",
      "between -1 and 1: -0.23707158542921852\n",
      "less than -1: -1.0458263600586284\n",
      "less than -1: -1.0349907857336131\n",
      "greater than 1: 1.1214275565141063\n",
      "less than -1: -1.0650287331491264\n",
      "between -1 and 1: -0.7485748633992384\n"
     ]
    }
   ],
   "source": [
    "answer = None\n",
    "x = randn(20)\n",
    "print(x)\n",
    "\n",
    "for i in x:\n",
    "    if i > 1:\n",
    "        print('greater than 1:',i)\n",
    "    elif i >= -1:\n",
    "        print('between -1 and 1:',i)\n",
    "    else:\n",
    "        print('less than -1:',i)"
   ]
  },
  {
   "cell_type": "code",
   "execution_count": null,
   "metadata": {},
   "outputs": [],
   "source": []
  }
 ],
 "metadata": {
  "kernelspec": {
   "display_name": "Python 3",
   "language": "python",
   "name": "python3"
  },
  "language_info": {
   "codemirror_mode": {
    "name": "ipython",
    "version": 3
   },
   "file_extension": ".py",
   "mimetype": "text/x-python",
   "name": "python",
   "nbconvert_exporter": "python",
   "pygments_lexer": "ipython3",
   "version": "3.7.6"
  }
 },
 "nbformat": 4,
 "nbformat_minor": 4
}
