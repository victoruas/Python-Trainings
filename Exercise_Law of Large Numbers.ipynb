{
 "cells": [
  {
   "cell_type": "code",
   "execution_count": 1,
   "metadata": {},
   "outputs": [],
   "source": [
    "import numpy as np\n",
    "from numpy.random import randn"
   ]
  },
  {
   "cell_type": "code",
   "execution_count": 32,
   "metadata": {},
   "outputs": [],
   "source": [
    "mylist10 = randn(10)\n",
    "mylist100 = randn(100)\n",
    "mylist1000 = randn(1000)\n",
    "mylist10000 = randn(10000)"
   ]
  },
  {
   "cell_type": "code",
   "execution_count": 33,
   "metadata": {},
   "outputs": [
    {
     "name": "stdout",
     "output_type": "stream",
     "text": [
      "List 10\n",
      "Numbers between -1 and 1:  8\n",
      "Total numbers on the list:  10\n",
      "Percentage:  80.0 %\n",
      "\n",
      "List 100\n",
      "Numbers between -1 and 1:  71\n",
      "Total numbers on the list:  100\n",
      "Percentage:  71.0 %\n",
      "\n",
      "List 1000\n",
      "Numbers between -1 and 1:  671\n",
      "Total numbers on the list:  1000\n",
      "Percentage:  67.10000000000001 %\n",
      "\n",
      "List 10000\n",
      "Numbers between -1 and 1:  6796\n",
      "Total numbers on the list:  10000\n",
      "Percentage:  67.96 %\n",
      "\n"
     ]
    }
   ],
   "source": [
    "count10 = 0\n",
    "x10 = 10\n",
    "count100 = 0\n",
    "x100 = 100\n",
    "count1000 = 0\n",
    "x1000 = 1000\n",
    "count10000 = 0\n",
    "x10000 = 10000\n",
    "\n",
    "for i in mylist10:\n",
    "    if (i <= 1 and i >= -1):\n",
    "        count10 = count10 + 1\n",
    "print(\"List 10\")\n",
    "print('Numbers between -1 and 1: ',count10)\n",
    "print('Total numbers on the list: ',x10)\n",
    "result10 = count10 / x10\n",
    "print('Percentage: ',result10*100,'%')\n",
    "print(\"\")\n",
    "\n",
    "for a in mylist100:\n",
    "    if (a <= 1 and a >= -1):\n",
    "        count100 = count100 + 1\n",
    "print('List 100')\n",
    "print('Numbers between -1 and 1: ',count100)\n",
    "print('Total numbers on the list: ',x100)\n",
    "result100 = count100 / x100\n",
    "print('Percentage: ',result100*100,'%')\n",
    "print('')\n",
    "\n",
    "for b in mylist1000:\n",
    "    if (b <= 1 and b >= -1):\n",
    "        count1000 = count1000 + 1\n",
    "print('List 1000')\n",
    "print('Numbers between -1 and 1: ',count1000)\n",
    "print('Total numbers on the list: ',x1000)\n",
    "result1000 = count1000 / x1000\n",
    "print('Percentage: ',result1000*100,'%')\n",
    "print('')\n",
    "\n",
    "for c in mylist10000:\n",
    "    if (c <= 1 and c >= -1):\n",
    "        count10000 = count10000 + 1\n",
    "print('List 10000')\n",
    "print('Numbers between -1 and 1: ',count10000)\n",
    "print('Total numbers on the list: ',x10000)\n",
    "result10000 = count10000 / x10000\n",
    "print('Percentage: ',result10000*100,'%')\n",
    "print('')"
   ]
  },
  {
   "cell_type": "code",
   "execution_count": null,
   "metadata": {},
   "outputs": [],
   "source": []
  }
 ],
 "metadata": {
  "kernelspec": {
   "display_name": "Python 3",
   "language": "python",
   "name": "python3"
  },
  "language_info": {
   "codemirror_mode": {
    "name": "ipython",
    "version": 3
   },
   "file_extension": ".py",
   "mimetype": "text/x-python",
   "name": "python",
   "nbconvert_exporter": "python",
   "pygments_lexer": "ipython3",
   "version": "3.7.6"
  }
 },
 "nbformat": 4,
 "nbformat_minor": 4
}
